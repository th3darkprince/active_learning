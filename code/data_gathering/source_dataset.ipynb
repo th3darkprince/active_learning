{
 "cells": [
  {
   "cell_type": "code",
   "execution_count": 1,
   "id": "d71741a3",
   "metadata": {},
   "outputs": [],
   "source": [
    "#Import Libraries\n",
    "import pandas as pd\n",
    "import idx2numpy\n",
    "import os\n",
    "import cv2\n",
    "from tqdm import tqdm\n",
    "import matplotlib.pyplot as plt"
   ]
  },
  {
   "cell_type": "code",
   "execution_count": 2,
   "id": "7fac48f1",
   "metadata": {},
   "outputs": [],
   "source": [
    "#Generate mapping file that has ALabel to ASCII to Character mapping\n",
    "try:\n",
    "    class_labels = pd.read_pickle(\"../../data/class_label_mapping.pkl\")\n",
    "except:\n",
    "    with open(\"../../source/balanced/emnist-balanced-mapping.txt\") as f:\n",
    "        class_labels = pd.DataFrame([label.split() for label in f.readlines()], columns=['class_label','ascii_code'])\n",
    "        class_labels = class_labels.astype(int)\n",
    "        class_labels['character'] = class_labels['ascii_code'].apply(lambda x:chr(x))\n",
    "        class_labels.to_pickle(\"../../data/class_label_mapping.pkl\")\n",
    "\n",
    "#class to character mapping\n",
    "class_labels = class_labels[['class_label','character']].set_index('class_label').T.to_dict('list')"
   ]
  },
  {
   "cell_type": "code",
   "execution_count": 3,
   "id": "ab985b11",
   "metadata": {},
   "outputs": [
    {
     "name": "stderr",
     "output_type": "stream",
     "text": [
      "18800it [00:03, 4754.62it/s]\n",
      "112800it [00:32, 3520.45it/s]\n"
     ]
    }
   ],
   "source": [
    "#Unzipped file from dataset source containing train-images, train-labels, test-images, test-labels\n",
    "for filename in os.listdir(\"../../source/balanced_raw/\"):\n",
    "    \n",
    "    data_array = idx2numpy.convert_from_file(\"../../source/balanced_raw/\"+filename)\n",
    "    \n",
    "    #convert array to image and store in disk\n",
    "    if \"images\" in filename:\n",
    "        if not os.path.isdir(\"../../data/source_dataset/\"+filename.split(\"-\")[0]+\"/\"+filename.split(\"-\")[1]):\n",
    "            os.makedirs(\"../../data/source_dataset/\"+filename.split(\"-\")[0]+\"/\"+filename.split(\"-\")[1])\n",
    "        for idx,img in tqdm(enumerate(data_array)):\n",
    "            cv2.imwrite(\"../../data/source_dataset/\"+filename.split(\"-\")[0]+\"/\"+filename.split(\"-\")[1]+\"/\"+filename.split(\"-\")[0]+str(idx)+\".jpg\", img.T)\n",
    "    \n",
    "    #create a dataset having class_label, character and path to the image\n",
    "    else:\n",
    "        if not os.path.isdir(\"../../data/source_dataset/\"+filename.split(\"-\")[0]+\"/\"+filename.split(\"-\")[1]):\n",
    "            os.makedirs(\"../../data/source_dataset/\"+filename.split(\"-\")[0]+\"/\"+filename.split(\"-\")[1])\n",
    "        directory = os.path.abspath(\"../../data/source_dataset/\")\n",
    "        dataset = pd.DataFrame({\"class_label\":data_array})\n",
    "        dataset[\"character\"] = dataset['class_label'].apply(lambda x:class_labels[x][0])\n",
    "        dataset[\"file_path\"] = [directory+\"\\\\\"+filename.split(\"-\")[0]+\"\\\\\"+\"images\"+\"\\\\\"+filename.split(\"-\")[0]+str(x) + \".jpg\" for x in list(dataset.index)]\n",
    "        dataset.to_pickle(\"../../data/source_dataset/\"+filename.split(\"-\")[0]+\"/\"+filename.split(\"-\")[1]+\"/\"+filename+\".pkl\")"
   ]
  },
  {
   "cell_type": "code",
   "execution_count": 4,
   "id": "9a5fa6d1",
   "metadata": {},
   "outputs": [],
   "source": [
    "#read stored datasets\n",
    "train_dataset = pd.read_pickle(\"../../data/source_dataset/train/labels/train-labels.pkl\")\n",
    "test_dataset = pd.read_pickle(\"../../data/source_dataset/test/labels/test-labels.pkl\")"
   ]
  },
  {
   "cell_type": "code",
   "execution_count": 5,
   "id": "592b6fde",
   "metadata": {},
   "outputs": [
    {
     "data": {
      "text/html": [
       "<div>\n",
       "<style scoped>\n",
       "    .dataframe tbody tr th:only-of-type {\n",
       "        vertical-align: middle;\n",
       "    }\n",
       "\n",
       "    .dataframe tbody tr th {\n",
       "        vertical-align: top;\n",
       "    }\n",
       "\n",
       "    .dataframe thead th {\n",
       "        text-align: right;\n",
       "    }\n",
       "</style>\n",
       "<table border=\"1\" class=\"dataframe\">\n",
       "  <thead>\n",
       "    <tr style=\"text-align: right;\">\n",
       "      <th></th>\n",
       "      <th>class_label</th>\n",
       "      <th>character</th>\n",
       "      <th>file_path</th>\n",
       "    </tr>\n",
       "  </thead>\n",
       "  <tbody>\n",
       "    <tr>\n",
       "      <th>0</th>\n",
       "      <td>45</td>\n",
       "      <td>r</td>\n",
       "      <td>E:\\active_learning\\data\\source_dataset\\train\\i...</td>\n",
       "    </tr>\n",
       "    <tr>\n",
       "      <th>1</th>\n",
       "      <td>36</td>\n",
       "      <td>a</td>\n",
       "      <td>E:\\active_learning\\data\\source_dataset\\train\\i...</td>\n",
       "    </tr>\n",
       "    <tr>\n",
       "      <th>2</th>\n",
       "      <td>43</td>\n",
       "      <td>n</td>\n",
       "      <td>E:\\active_learning\\data\\source_dataset\\train\\i...</td>\n",
       "    </tr>\n",
       "    <tr>\n",
       "      <th>3</th>\n",
       "      <td>15</td>\n",
       "      <td>F</td>\n",
       "      <td>E:\\active_learning\\data\\source_dataset\\train\\i...</td>\n",
       "    </tr>\n",
       "    <tr>\n",
       "      <th>4</th>\n",
       "      <td>4</td>\n",
       "      <td>4</td>\n",
       "      <td>E:\\active_learning\\data\\source_dataset\\train\\i...</td>\n",
       "    </tr>\n",
       "    <tr>\n",
       "      <th>...</th>\n",
       "      <td>...</td>\n",
       "      <td>...</td>\n",
       "      <td>...</td>\n",
       "    </tr>\n",
       "    <tr>\n",
       "      <th>112795</th>\n",
       "      <td>22</td>\n",
       "      <td>M</td>\n",
       "      <td>E:\\active_learning\\data\\source_dataset\\train\\i...</td>\n",
       "    </tr>\n",
       "    <tr>\n",
       "      <th>112796</th>\n",
       "      <td>17</td>\n",
       "      <td>H</td>\n",
       "      <td>E:\\active_learning\\data\\source_dataset\\train\\i...</td>\n",
       "    </tr>\n",
       "    <tr>\n",
       "      <th>112797</th>\n",
       "      <td>23</td>\n",
       "      <td>N</td>\n",
       "      <td>E:\\active_learning\\data\\source_dataset\\train\\i...</td>\n",
       "    </tr>\n",
       "    <tr>\n",
       "      <th>112798</th>\n",
       "      <td>31</td>\n",
       "      <td>V</td>\n",
       "      <td>E:\\active_learning\\data\\source_dataset\\train\\i...</td>\n",
       "    </tr>\n",
       "    <tr>\n",
       "      <th>112799</th>\n",
       "      <td>8</td>\n",
       "      <td>8</td>\n",
       "      <td>E:\\active_learning\\data\\source_dataset\\train\\i...</td>\n",
       "    </tr>\n",
       "  </tbody>\n",
       "</table>\n",
       "<p>112800 rows × 3 columns</p>\n",
       "</div>"
      ],
      "text/plain": [
       "        class_label character  \\\n",
       "0                45         r   \n",
       "1                36         a   \n",
       "2                43         n   \n",
       "3                15         F   \n",
       "4                 4         4   \n",
       "...             ...       ...   \n",
       "112795           22         M   \n",
       "112796           17         H   \n",
       "112797           23         N   \n",
       "112798           31         V   \n",
       "112799            8         8   \n",
       "\n",
       "                                                file_path  \n",
       "0       E:\\active_learning\\data\\source_dataset\\train\\i...  \n",
       "1       E:\\active_learning\\data\\source_dataset\\train\\i...  \n",
       "2       E:\\active_learning\\data\\source_dataset\\train\\i...  \n",
       "3       E:\\active_learning\\data\\source_dataset\\train\\i...  \n",
       "4       E:\\active_learning\\data\\source_dataset\\train\\i...  \n",
       "...                                                   ...  \n",
       "112795  E:\\active_learning\\data\\source_dataset\\train\\i...  \n",
       "112796  E:\\active_learning\\data\\source_dataset\\train\\i...  \n",
       "112797  E:\\active_learning\\data\\source_dataset\\train\\i...  \n",
       "112798  E:\\active_learning\\data\\source_dataset\\train\\i...  \n",
       "112799  E:\\active_learning\\data\\source_dataset\\train\\i...  \n",
       "\n",
       "[112800 rows x 3 columns]"
      ]
     },
     "execution_count": 5,
     "metadata": {},
     "output_type": "execute_result"
    }
   ],
   "source": [
    "train_dataset"
   ]
  },
  {
   "cell_type": "code",
   "execution_count": 6,
   "id": "154a4ea3",
   "metadata": {},
   "outputs": [
    {
     "data": {
      "text/html": [
       "<div>\n",
       "<style scoped>\n",
       "    .dataframe tbody tr th:only-of-type {\n",
       "        vertical-align: middle;\n",
       "    }\n",
       "\n",
       "    .dataframe tbody tr th {\n",
       "        vertical-align: top;\n",
       "    }\n",
       "\n",
       "    .dataframe thead th {\n",
       "        text-align: right;\n",
       "    }\n",
       "</style>\n",
       "<table border=\"1\" class=\"dataframe\">\n",
       "  <thead>\n",
       "    <tr style=\"text-align: right;\">\n",
       "      <th></th>\n",
       "      <th>class_label</th>\n",
       "      <th>character</th>\n",
       "      <th>file_path</th>\n",
       "    </tr>\n",
       "  </thead>\n",
       "  <tbody>\n",
       "    <tr>\n",
       "      <th>0</th>\n",
       "      <td>41</td>\n",
       "      <td>g</td>\n",
       "      <td>E:\\active_learning\\data\\source_dataset\\test\\im...</td>\n",
       "    </tr>\n",
       "    <tr>\n",
       "      <th>1</th>\n",
       "      <td>39</td>\n",
       "      <td>e</td>\n",
       "      <td>E:\\active_learning\\data\\source_dataset\\test\\im...</td>\n",
       "    </tr>\n",
       "    <tr>\n",
       "      <th>2</th>\n",
       "      <td>9</td>\n",
       "      <td>9</td>\n",
       "      <td>E:\\active_learning\\data\\source_dataset\\test\\im...</td>\n",
       "    </tr>\n",
       "    <tr>\n",
       "      <th>3</th>\n",
       "      <td>26</td>\n",
       "      <td>Q</td>\n",
       "      <td>E:\\active_learning\\data\\source_dataset\\test\\im...</td>\n",
       "    </tr>\n",
       "    <tr>\n",
       "      <th>4</th>\n",
       "      <td>44</td>\n",
       "      <td>q</td>\n",
       "      <td>E:\\active_learning\\data\\source_dataset\\test\\im...</td>\n",
       "    </tr>\n",
       "    <tr>\n",
       "      <th>...</th>\n",
       "      <td>...</td>\n",
       "      <td>...</td>\n",
       "      <td>...</td>\n",
       "    </tr>\n",
       "    <tr>\n",
       "      <th>18795</th>\n",
       "      <td>45</td>\n",
       "      <td>r</td>\n",
       "      <td>E:\\active_learning\\data\\source_dataset\\test\\im...</td>\n",
       "    </tr>\n",
       "    <tr>\n",
       "      <th>18796</th>\n",
       "      <td>15</td>\n",
       "      <td>F</td>\n",
       "      <td>E:\\active_learning\\data\\source_dataset\\test\\im...</td>\n",
       "    </tr>\n",
       "    <tr>\n",
       "      <th>18797</th>\n",
       "      <td>1</td>\n",
       "      <td>1</td>\n",
       "      <td>E:\\active_learning\\data\\source_dataset\\test\\im...</td>\n",
       "    </tr>\n",
       "    <tr>\n",
       "      <th>18798</th>\n",
       "      <td>26</td>\n",
       "      <td>Q</td>\n",
       "      <td>E:\\active_learning\\data\\source_dataset\\test\\im...</td>\n",
       "    </tr>\n",
       "    <tr>\n",
       "      <th>18799</th>\n",
       "      <td>33</td>\n",
       "      <td>X</td>\n",
       "      <td>E:\\active_learning\\data\\source_dataset\\test\\im...</td>\n",
       "    </tr>\n",
       "  </tbody>\n",
       "</table>\n",
       "<p>18800 rows × 3 columns</p>\n",
       "</div>"
      ],
      "text/plain": [
       "       class_label character  \\\n",
       "0               41         g   \n",
       "1               39         e   \n",
       "2                9         9   \n",
       "3               26         Q   \n",
       "4               44         q   \n",
       "...            ...       ...   \n",
       "18795           45         r   \n",
       "18796           15         F   \n",
       "18797            1         1   \n",
       "18798           26         Q   \n",
       "18799           33         X   \n",
       "\n",
       "                                               file_path  \n",
       "0      E:\\active_learning\\data\\source_dataset\\test\\im...  \n",
       "1      E:\\active_learning\\data\\source_dataset\\test\\im...  \n",
       "2      E:\\active_learning\\data\\source_dataset\\test\\im...  \n",
       "3      E:\\active_learning\\data\\source_dataset\\test\\im...  \n",
       "4      E:\\active_learning\\data\\source_dataset\\test\\im...  \n",
       "...                                                  ...  \n",
       "18795  E:\\active_learning\\data\\source_dataset\\test\\im...  \n",
       "18796  E:\\active_learning\\data\\source_dataset\\test\\im...  \n",
       "18797  E:\\active_learning\\data\\source_dataset\\test\\im...  \n",
       "18798  E:\\active_learning\\data\\source_dataset\\test\\im...  \n",
       "18799  E:\\active_learning\\data\\source_dataset\\test\\im...  \n",
       "\n",
       "[18800 rows x 3 columns]"
      ]
     },
     "execution_count": 6,
     "metadata": {},
     "output_type": "execute_result"
    }
   ],
   "source": [
    "test_dataset"
   ]
  },
  {
   "cell_type": "code",
   "execution_count": 9,
   "id": "92541996",
   "metadata": {},
   "outputs": [
    {
     "name": "stdout",
     "output_type": "stream",
     "text": [
      "Chracter:  r\n"
     ]
    },
    {
     "data": {
      "image/png": "[encoded data removed]",
      "text/plain": [
       "<Figure size 432x288 with 1 Axes>"
      ]
     },
     "metadata": {
      "needs_background": "light"
     },
     "output_type": "display_data"
    }
   ],
   "source": [
    "#Sample train image\n",
    "print(\"Chracter: \", train_dataset.loc[0][\"character\"])\n",
    "img = cv2.imread(train_dataset.loc[0][\"file_path\"],0)\n",
    "plt.imshow(img)\n",
    "plt.show()"
   ]
  },
  {
   "cell_type": "code",
   "execution_count": 10,
   "id": "b6fb203a",
   "metadata": {},
   "outputs": [
    {
     "name": "stdout",
     "output_type": "stream",
     "text": [
      "Chracter:  g\n"
     ]
    },
    {
     "data": {
      "image/png": "[encoded data removed]",
      "text/plain": [
       "<Figure size 432x288 with 1 Axes>"
      ]
     },
     "metadata": {
      "needs_background": "light"
     },
     "output_type": "display_data"
    }
   ],
   "source": [
    "#Sample test image\n",
    "print(\"Chracter: \", test_dataset.loc[0][\"character\"])\n",
    "img = cv2.imread(test_dataset.loc[0][\"file_path\"],0)\n",
    "plt.imshow(img)\n",
    "plt.show()"
   ]
  }
 ],
 "metadata": {
  "kernelspec": {
   "display_name": "Python 3 (ipykernel)",
   "language": "python",
   "name": "python3"
  },
  "language_info": {
   "codemirror_mode": {
    "name": "ipython",
    "version": 3
   },
   "file_extension": ".py",
   "mimetype": "text/x-python",
   "name": "python",
   "nbconvert_exporter": "python",
   "pygments_lexer": "ipython3",
   "version": "3.9.7"
  }
 },
 "nbformat": 4,
 "nbformat_minor": 5
}
