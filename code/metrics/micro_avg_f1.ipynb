{
 "cells": [
  {
   "cell_type": "code",
   "execution_count": 1,
   "id": "074c3c29",
   "metadata": {},
   "outputs": [],
   "source": [
    "#Import Libraries\n",
    "import numpy as np"
   ]
  },
  {
   "cell_type": "code",
   "execution_count": 2,
   "id": "22721067",
   "metadata": {},
   "outputs": [],
   "source": [
    "def micro_f1_score(y_true, y_pred):\n",
    "    \"\"\"Function ot calculate micro average F1 score in a multi class setting\"\"\"\n",
    "\n",
    "    #number of classes\n",
    "    actual_labels = np.unique(y_true)\n",
    "    \n",
    "    #confusion matrix initialized to zeros\n",
    "    confusion_matrix = np.zeros((len(actual_labels), len(actual_labels)))\n",
    "    \n",
    "    #update confusion matrix according to y_true and y_pred\n",
    "    for i in zip(y_pred, y_true):\n",
    "        confusion_matrix[(i)] += 1\n",
    "\n",
    "    #calculate True Positives, False Positives and False Negatives for each class\n",
    "    tps = confusion_matrix.diagonal()\n",
    "    fns = confusion_matrix.sum(axis=0)-tps\n",
    "    fps = confusion_matrix.sum(axis=1)-tps\n",
    "    \n",
    "    #Calculate Precision and Recall across all classes\n",
    "    precision = tps.sum()/(tps.sum()+fps.sum())\n",
    "    recall = tps.sum()/(tps.sum()+fns.sum())\n",
    "    \n",
    "    #Calculate F1 score\n",
    "    micro_avg_f1 = 2*precision*recall/(precision+recall)\n",
    "    \n",
    "    return confusion_matrix, micro_avg_f1"
   ]
  },
  {
   "cell_type": "code",
   "execution_count": 6,
   "id": "f8baf8cc",
   "metadata": {},
   "outputs": [
    {
     "name": "stdout",
     "output_type": "stream",
     "text": [
      "Confusion Matrix\n",
      "\n",
      " [[2. 0. 1. 2.]\n",
      " [1. 3. 1. 2.]\n",
      " [1. 1. 2. 0.]\n",
      " [1. 1. 1. 1.]]\n",
      "\n",
      "\n",
      "Micro Average F1 Score:  0.4000000000000001\n"
     ]
    }
   ],
   "source": [
    "y_true = np.array([0,0,0,0,0,1,1,1,1,1,2,2,2,2,2,3,3,3,3,3])\n",
    "y_pred = np.array([1,2,0,0,3,1,3,2,1,1,3,2,2,1,0,3,0,0,1,1])\n",
    "\n",
    "cm,f1 = micro_f1_score(y_true,y_pred)\n",
    "\n",
    "print(\"Confusion Matrix\\n\\n\",cm)\n",
    "print(\"\\n\\nMicro Average F1 Score: \",f1)"
   ]
  }
 ],
 "metadata": {
  "kernelspec": {
   "display_name": "Python 3 (ipykernel)",
   "language": "python",
   "name": "python3"
  },
  "language_info": {
   "codemirror_mode": {
    "name": "ipython",
    "version": 3
   },
   "file_extension": ".py",
   "mimetype": "text/x-python",
   "name": "python",
   "nbconvert_exporter": "python",
   "pygments_lexer": "ipython3",
   "version": "3.9.7"
  }
 },
 "nbformat": 4,
 "nbformat_minor": 5
}
